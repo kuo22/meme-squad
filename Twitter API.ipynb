{
 "cells": [
  {
   "cell_type": "markdown",
   "metadata": {},
   "source": [
    "# Twitter Scraper / API"
   ]
  },
  {
   "cell_type": "code",
   "execution_count": 15,
   "metadata": {},
   "outputs": [],
   "source": [
    "# Imports here\n",
    "import twitter\n",
    "import json\n",
    "import tweepy\n",
    "\n",
    "\n",
    "\n",
    "\n",
    "\n"
   ]
  },
  {
   "cell_type": "code",
   "execution_count": 2,
   "metadata": {},
   "outputs": [],
   "source": [
    "# Kuo\n",
    "\n",
    "\n",
    "\n",
    "\n",
    "\n",
    "\n",
    "\n",
    "\n",
    "\n"
   ]
  },
  {
   "cell_type": "code",
   "execution_count": 3,
   "metadata": {},
   "outputs": [],
   "source": [
    "# Eddie\n",
    "\n",
    "\n",
    "\n",
    "\n",
    "\n",
    "\n",
    "\n",
    "\n",
    "\n",
    "\n",
    "\n",
    "\n",
    "\n",
    "\n",
    "\n",
    "\n",
    "\n",
    "\n",
    "\n",
    "\n",
    "\n",
    "\n",
    "\n",
    "\n",
    "\n"
   ]
  },
  {
   "cell_type": "code",
   "execution_count": 17,
   "metadata": {},
   "outputs": [
    {
     "name": "stdout",
     "output_type": "stream",
     "text": [
      "why so serious 😴 https://t.co/xfhdqcXZpj\n",
      "I'm so in love that I acted insane.\n",
      "RT @EnchantedSwift7: When they say they don't like So It Goes and Dancing With Our Hands Tied https://t.co/90kKA3IMEA\n",
      "Weird Facts About Sex and Love https://t.co/fJcA6R6NPt https://t.co/TE9SZydBRc\n",
      "RT @joynessthebrave: When someone hasn't read a classic book, I always try to say \"Oh! What a treat you have ahead of you!\" rather than \"I…\n",
      "RT @swiftsaIute: i would’ve called it ugly https://t.co/KHOz8rkKzT\n",
      "i bought harry lorde and taylor tickets all in 3 days https://t.co/kZFVHx9MVf\n",
      "i’m really seeing taylor &amp; charli in Toronto again aren’t I\n",
      "he’s so beautiful I’m gonna kermit https://t.co/qhNqqKjy94\n",
      "RT @thisIovenjh: courtney and i finally getting to have starbucks TOGETHER?? this is the dream https://t.co/Q9SvmwLazq\n",
      "I: have social anxiety\n",
      "\n",
      "when it comes to taylor swift concerts: HAHA WHATS ANXIETY HAHA ILL MEET 20 PEOPLE IN ONE DAY !! HAHA\n",
      "Tonight I'm gonna dance like you were in this room. But I don't wanna dance if I'm not dancing with you.\n",
      "Nothing has ever been better than Jennifer Lawrence playing #BurningQuestions. https://t.co/J7hzmqBxYh\n",
      "RT @inagetawaycar: https://t.co/KaxAjcF1cG\n",
      "\"I hope you think my favorite song, the one we danced to all night long, the moon like a spotlight on the lake\"\n",
      "I have 63 cents in my savings https://t.co/TpItG54vVm\n",
      "IM SITTING WITH ALLIE @ THE GLENDALE SHOW https://t.co/u17NqwU95O\n"
     ]
    }
   ],
   "source": [
    "# Yulong\n",
    "\n",
    "consumer_key = 'xcW3f75Y6xEcoKnCrGDrNXSLG'\n",
    "consumer_secret = 'SNQSDZeDlPoUSa443ElufrWxuCqdljfq6FME7Jin9DZdUQRTKa'\n",
    "access_token = '153588498-8MoqCHZJG7jrLh8KToTErFAzpOzYMvZkhq1YzYmP'\n",
    "access_token_secret = 'kw4SF72mY4bv5IuCDQxXQzdkfJMJ7v0t06F2OFMmwMfWT'\n",
    "\n",
    "\"\"\"\n",
    "api = twitter.Api(consumer_key=consumer_key,\n",
    "                  consumer_secret=consumer_secret,\n",
    "                  access_token=access_token_key,\n",
    "                  access_token_secret=access_token_secret)\n",
    "\n",
    "results = api.GetSearch(\n",
    "    raw_query='q=%23nra')\n",
    "\n",
    "print type(results[0])\n",
    "\"\"\"\n",
    "\n",
    "auth = tweepy.OAuthHandler(consumer_key, consumer_secret)\n",
    "auth.set_access_token(access_token, access_token_secret)\n",
    "\n",
    "api = tweepy.API(auth)\n",
    "\n",
    "public_tweets = api.home_timeline()\n",
    "for tweet in public_tweets:\n",
    "    print tweet.text\n",
    "\n",
    "\n",
    "\n",
    "\n",
    "\n",
    "\n",
    "\n",
    "\n",
    "\n",
    "\n"
   ]
  },
  {
   "cell_type": "code",
   "execution_count": 5,
   "metadata": {},
   "outputs": [],
   "source": [
    "# Xiaolun\n",
    "\n",
    "\n",
    "\n",
    "\n",
    "\n",
    "\n",
    "\n",
    "\n",
    "\n",
    "\n",
    "\n",
    "\n",
    "\n"
   ]
  },
  {
   "cell_type": "code",
   "execution_count": null,
   "metadata": {},
   "outputs": [],
   "source": []
  }
 ],
 "metadata": {
  "kernelspec": {
   "display_name": "Python 2",
   "language": "python",
   "name": "python2"
  },
  "language_info": {
   "codemirror_mode": {
    "name": "ipython",
    "version": 2
   },
   "file_extension": ".py",
   "mimetype": "text/x-python",
   "name": "python",
   "nbconvert_exporter": "python",
   "pygments_lexer": "ipython2",
   "version": "2.7.14"
  }
 },
 "nbformat": 4,
 "nbformat_minor": 2
}
